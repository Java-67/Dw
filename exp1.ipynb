{
 "cells": [
  {
   "cell_type": "code",
   "execution_count": 1,
   "id": "79c8f9f0-a46d-471e-a420-79bb8f3aac73",
   "metadata": {},
   "outputs": [
    {
     "name": "stdout",
     "output_type": "stream",
     "text": [
      "{'Name': ['mahi', 'abhi', 'pavan', 'pavan', 'sai', 'hari', 'sri'], 'age': ['18', '20', '22', '22', '24', '26', '27'], 'income': ['1000', '2000', '1500', '1500', '3000', '4000', '3500'], 'weight': ['50', '51', '55', '55', '60', '65', '45']}\n",
      "    Name age income weight\n",
      "0   mahi  18   1000     50\n",
      "1   abhi  20   2000     51\n",
      "2  pavan  22   1500     55\n",
      "3  pavan  22   1500     55\n",
      "4    sai  24   3000     60\n",
      "5   hari  26   4000     65\n",
      "6    sri  27   3500     45\n",
      "Number of outliers: 0\n",
      "Empty DataFrame\n",
      "Columns: [Name, age, income, weight, Normalized_Weight, Standardized_Income]\n",
      "Index: []\n"
     ]
    }
   ],
   "source": [
    "import pandas as pd\n",
    "import seaborn as sns\n",
    "from sklearn.preprocessing import MinMaxScaler,StandardScaler\n",
    "#import data\n",
    "data= {'Name':['mahi','abhi','pavan','pavan','sai','hari','sri'],'age':['18','20','22','22','24','26','27'],'income':['1000','2000','1500','1500','3000','4000','3500'],'weight':['50','51','55','55','60','65','45']}\n",
    "#To disply the data\n",
    "print(data)\n",
    "df=pd.DataFrame(data)\n",
    "print(df)\n",
    "df.duplicated()\n",
    "df[df.duplicated()]\n",
    "df.duplicated().sum()\n",
    "df_dup=df.drop_duplicates()\n",
    "df_dup\n",
    "a=MinMaxScaler()\n",
    "df['Normalized_Weight']=a.fit_transform(df[['weight']])\n",
    "df['Normalized_Weight']\n",
    "df\n",
    "b=MinMaxScaler()\n",
    "df['Standardized_Income']=b.fit_transform(df[['income']])\n",
    "df['Standardized_Income']\n",
    "df\n",
    "df['income']=pd.to_numeric(df['income'],errors='coerce')\n",
    "q1=df['income'].quantile(0.25)\n",
    "q3=df['income'].quantile(0.75)\n",
    "iqr=q3-q1\n",
    "upper_limit=q3+(1.5 * iqr)\n",
    "lower_limit=q1-(1.5 * iqr)\n",
    "upper_limit\n",
    "outliers=df[(df['income']>upper_limit)|(df['income']<lower_limit)]\n",
    "num_outliers=len(outliers)\n",
    "num_non_liers=len(df)-num_outliers\n",
    "print(\"Number of outliers:\",num_outliers)\n",
    "print(outliers)"
   ]
  },
  {
   "cell_type": "code",
   "execution_count": null,
   "id": "88272e7b-e65d-44aa-8b18-302bad09ac8d",
   "metadata": {},
   "outputs": [],
   "source": []
  }
 ],
 "metadata": {
  "kernelspec": {
   "display_name": "Python 3 (ipykernel)",
   "language": "python",
   "name": "python3"
  },
  "language_info": {
   "codemirror_mode": {
    "name": "ipython",
    "version": 3
   },
   "file_extension": ".py",
   "mimetype": "text/x-python",
   "name": "python",
   "nbconvert_exporter": "python",
   "pygments_lexer": "ipython3",
   "version": "3.12.7"
  }
 },
 "nbformat": 4,
 "nbformat_minor": 5
}
